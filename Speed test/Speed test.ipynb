{
 "cells": [
  {
   "cell_type": "code",
   "execution_count": 4,
   "id": "aec35978",
   "metadata": {},
   "outputs": [],
   "source": [
    "from tkinter import * #for graphics \n",
    "import speedtest"
   ]
  },
  {
   "cell_type": "code",
   "execution_count": 5,
   "id": "2443e5a3",
   "metadata": {},
   "outputs": [],
   "source": [
    "def speedcheck():\n",
    "    sp = speedtest.Speedtest()\n",
    "    sp.get_servers()\n",
    "    down = str(round(sp.download()/(10**6))) +\"Mbps\"#we get in bits per second by default\n",
    "    up = str(round(sp.upload()/(10**6),3)) +\"Mbps\"\n",
    "    #setting parameters lab_down and lab_up\n",
    "    lab_down.config(text=down)\n",
    "    lab_up.config(text=up)\n",
    "\n",
    "\n",
    "\n",
    "\n",
    "\n",
    "sp = Tk() #main class\n",
    "sp.title(\"Internet Speed Test\")\n",
    "sp.geometry(\"500x650\") #window dimensions\n",
    "sp.config(bg=\"Blue\")\n",
    "\n",
    "lab = Label(sp,text=\"Internet Speed Test\",font=(\"Time New Roman\",30,\"bold\"),bg=\"Blue\",fg=\"yellow\")\n",
    "lab.place(x=60,y=40,height=50,width=380)#position\n",
    "\n",
    "\n",
    "lab = Label(sp,text=\"Download Speed \",font=(\"Time New Roman\",30,\"bold\"))\n",
    "lab.place(x=60,y=130,height=50,width=380)#position\n",
    "\n",
    "\n",
    "lab_down = Label(sp,text=\"00\",font=(\"Time New Roman\",30,\"bold\"))\n",
    "lab_down.place(x=60,y=200,height=50,width=380)#position\n",
    "\n",
    "\n",
    "lab = Label(sp,text=\"Upload Speed\",font=(\"Time New Roman\",30,\"bold\"))\n",
    "lab.place(x=60,y=290,height=50,width=380)#position\n",
    "\n",
    "\n",
    "lab_up = Label(sp,text=\"00\",font=(\"Time New Roman\",30,\"bold\"))\n",
    "lab_up.place(x=60,y=360,height=50,width=380)#position\n",
    "\n",
    "\n",
    "button = Button(sp,text=\"Check Speed\",font=(\"Time New Roman\",30,\"bold\"),relief=RAISED,bg=\"Red\",command=speedcheck())\n",
    "button.place(x=60,y=460,height=50,width=380)\n",
    "\n",
    "\n",
    "\n",
    "\n",
    "\n",
    "sp.mainloop() #for window "
   ]
  },
  {
   "cell_type": "code",
   "execution_count": null,
   "id": "d1073470",
   "metadata": {},
   "outputs": [],
   "source": []
  }
 ],
 "metadata": {
  "kernelspec": {
   "display_name": "Python 3 (ipykernel)",
   "language": "python",
   "name": "python3"
  },
  "language_info": {
   "codemirror_mode": {
    "name": "ipython",
    "version": 3
   },
   "file_extension": ".py",
   "mimetype": "text/x-python",
   "name": "python",
   "nbconvert_exporter": "python",
   "pygments_lexer": "ipython3",
   "version": "3.9.13"
  }
 },
 "nbformat": 4,
 "nbformat_minor": 5
}
